{
 "cells": [
  {
   "cell_type": "code",
   "execution_count": 1,
   "metadata": {},
   "outputs": [],
   "source": [
    "import os\n",
    "import numpy as np\n",
    "import pandas as pd\n",
    "import nltk\n",
    "import nltk\n",
    "from nltk.corpus import stopwords"
   ]
  },
  {
   "cell_type": "code",
   "execution_count": 2,
   "metadata": {},
   "outputs": [],
   "source": [
    "file = open('news_article.txt')\n",
    "article = file.read()"
   ]
  },
  {
   "cell_type": "code",
   "execution_count": 3,
   "metadata": {},
   "outputs": [],
   "source": [
    "tokens = nltk.word_tokenize(article)\n",
    "#print(tokens)\n",
    "filters = set('! \" # $ % & ( ) * + , - . / : ; < = > ? @ [ \\ \\ ] ^ _ ` { | } ~ \\t \\n'.split(\" \"))\n",
    "filtered_tokens = [i for i in tokens if i not in filters]\n",
    "#print(filtered_tokens)\n",
    "pos_tags =  nltk.pos_tag(filtered_tokens)"
   ]
  },
  {
   "cell_type": "code",
   "execution_count": 5,
   "metadata": {},
   "outputs": [],
   "source": [
    "POS  = {\"Noun\":[],\"Pronoun\":[],\"Verb\":[],\"Adjective\":[],\"Adverb\":[],\"Conjunction\":[], \"Preposition\":[], \"Interjection\":[]}\n",
    "words = {}\n",
    "for i in pos_tags:\n",
    "    if (i[0] in words):\n",
    "        words[i[0]] += 1\n",
    "    else:\n",
    "        words[i[0]] = 1\n",
    "\n",
    "for i in pos_tags:\n",
    "    wrd = i[0]\n",
    "    tag = i[1]\n",
    "    count = words[wrd]\n",
    "    \n",
    "    \n",
    "    if (tag[0] == \"V\"):\n",
    "        POS[\"Verb\"].append(wrd) \n",
    "        \n",
    "    elif (tag[0] == \"N\"):\n",
    "        POS[\"Noun\"].append(wrd)\n",
    "    elif (tag[0] == \"J\"):\n",
    "        POS[\"Adjective\"].append(wrd)\n",
    "    elif (tag[0] == \"R\"):\n",
    "        POS[\"Adverb\"].append(wrd)\n",
    "    elif (tag[0] == \"C\"and tag[1] ==\"C\"):\n",
    "        POS[\"Conjunction\"].append(wrd)\n",
    "    elif (tag[0] == \"I\" and tag[1] ==\"N\"):\n",
    "        POS[\"Preposition\"].append(wrd)\n",
    "    elif (tag[0] == \"U\"):\n",
    "        POS[\"Interjection\"].append(wrd)\n",
    "    elif (tag[0] == \"W\" or tag[0] == \"P\"):\n",
    "        POS[\"Pronoun\"].append(wrd)"
   ]
  },
  {
   "cell_type": "code",
   "execution_count": 22,
   "metadata": {},
   "outputs": [],
   "source": [
    "parts_of_speech =  [\"Noun\",\"Pronoun\",\"Verb\",\"Adjective\",\"Adverb\",\"Conjunction\", \"Preposition\", \"Interjection\"]\n",
    "wording = []\n",
    "count = []\n",
    "for i in parts_of_speech:\n",
    "    wording.append(POS[i])\n",
    "    count.append(len(POS[i]))"
   ]
  },
  {
   "cell_type": "code",
   "execution_count": 26,
   "metadata": {},
   "outputs": [],
   "source": [
    "dic = {'POS': parts_of_speech, 'Word': wording, \"Count\": count}"
   ]
  },
  {
   "cell_type": "code",
   "execution_count": 27,
   "metadata": {},
   "outputs": [],
   "source": [
    "df = pd.DataFrame(dic)"
   ]
  },
  {
   "cell_type": "code",
   "execution_count": 28,
   "metadata": {},
   "outputs": [
    {
     "name": "stdout",
     "output_type": "stream",
     "text": [
      "            POS                                               Word  Count\n",
      "3     Adjective  [Â£5,390, fictionalised, Paraguayan, Irish, an...     27\n",
      "7  Interjection                                                 []      0\n",
      "6   Preposition  [in, at, about, in, on, without, over, of, abo...     47\n",
      "0          Noun  [Paraguay, novel, US, book, A, novel, century,...    139\n",
      "4        Adverb  [not, out, closely, out, instead, not, instead...      9\n",
      "2          Verb  [wins, prize, set, has, won, is, were, present...     50\n",
      "5   Conjunction                [and, But, but, and, But, and, and]      7\n",
      "1       Pronoun  ['s, his, which, 's, who, 's, her, which, It, ...     24\n"
     ]
    }
   ],
   "source": [
    "print(df.sample(8))"
   ]
  },
  {
   "cell_type": "code",
   "execution_count": 12,
   "metadata": {},
   "outputs": [],
   "source": [
    "df.to_csv('Pos_tags_count.csv') "
   ]
  }
 ],
 "metadata": {
  "kernelspec": {
   "display_name": "Python 3",
   "language": "python",
   "name": "python3"
  },
  "language_info": {
   "codemirror_mode": {
    "name": "ipython",
    "version": 3
   },
   "file_extension": ".py",
   "mimetype": "text/x-python",
   "name": "python",
   "nbconvert_exporter": "python",
   "pygments_lexer": "ipython3",
   "version": "3.7.3"
  }
 },
 "nbformat": 4,
 "nbformat_minor": 2
}
